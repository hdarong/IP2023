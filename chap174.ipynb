{
 "cells": [
  {
   "cell_type": "markdown",
   "metadata": {},
   "source": [
    "# 1.7.4 Depth Map from Stereo Images"
   ]
  },
  {
   "cell_type": "code",
   "execution_count": 1,
   "metadata": {},
   "outputs": [],
   "source": [
    "import numpy as np\n",
    "import cv2\n",
    "from matplotlib import pyplot as plt"
   ]
  },
  {
   "cell_type": "code",
   "execution_count": 2,
   "metadata": {},
   "outputs": [],
   "source": [
    "imgL = cv2.imread('sim2.png',0)\n",
    "imgR = cv2.imread('sim3.png',0)"
   ]
  },
  {
   "cell_type": "code",
   "execution_count": 3,
   "metadata": {},
   "outputs": [
    {
     "ename": "error",
     "evalue": "OpenCV(4.8.0) D:\\a\\opencv-python\\opencv-python\\opencv\\modules\\calib3d\\src\\stereobm.cpp:1190: error: (-211:One of the arguments' values is out of range) SADWindowSize must be odd, be within 5..255 and be not larger than image width or height in function 'cv::StereoBMImpl::compute'\n",
     "output_type": "error",
     "traceback": [
      "\u001b[1;31m---------------------------------------------------------------------------\u001b[0m",
      "\u001b[1;31merror\u001b[0m                                     Traceback (most recent call last)",
      "\u001b[1;32mc:\\Users\\U303-24\\IP2023\\chap174.ipynb 셀 4\u001b[0m line \u001b[0;36m3\n\u001b[0;32m      <a href='vscode-notebook-cell:/c%3A/Users/U303-24/IP2023/chap174.ipynb#W3sZmlsZQ%3D%3D?line=0'>1</a>\u001b[0m \u001b[39m#stereo = cv2.createStereoBM(numDisparities=16, blockSize=15)\u001b[39;00m\n\u001b[0;32m      <a href='vscode-notebook-cell:/c%3A/Users/U303-24/IP2023/chap174.ipynb#W3sZmlsZQ%3D%3D?line=1'>2</a>\u001b[0m stereo \u001b[39m=\u001b[39m cv2\u001b[39m.\u001b[39mStereoBM_create(numDisparities\u001b[39m=\u001b[39m\u001b[39m16\u001b[39m, blockSize\u001b[39m=\u001b[39m\u001b[39m15\u001b[39m)\n\u001b[1;32m----> <a href='vscode-notebook-cell:/c%3A/Users/U303-24/IP2023/chap174.ipynb#W3sZmlsZQ%3D%3D?line=2'>3</a>\u001b[0m disparity \u001b[39m=\u001b[39m stereo\u001b[39m.\u001b[39mcompute(imgL,imgR)\n\u001b[0;32m      <a href='vscode-notebook-cell:/c%3A/Users/U303-24/IP2023/chap174.ipynb#W3sZmlsZQ%3D%3D?line=3'>4</a>\u001b[0m plt\u001b[39m.\u001b[39mimshow(disparity,\u001b[39m'\u001b[39m\u001b[39mgray\u001b[39m\u001b[39m'\u001b[39m)\n\u001b[0;32m      <a href='vscode-notebook-cell:/c%3A/Users/U303-24/IP2023/chap174.ipynb#W3sZmlsZQ%3D%3D?line=4'>5</a>\u001b[0m plt\u001b[39m.\u001b[39mshow()\n",
      "\u001b[1;31merror\u001b[0m: OpenCV(4.8.0) D:\\a\\opencv-python\\opencv-python\\opencv\\modules\\calib3d\\src\\stereobm.cpp:1190: error: (-211:One of the arguments' values is out of range) SADWindowSize must be odd, be within 5..255 and be not larger than image width or height in function 'cv::StereoBMImpl::compute'\n"
     ]
    }
   ],
   "source": [
    "#stereo = cv2.createStereoBM(numDisparities=16, blockSize=15)\n",
    "stereo = cv2.StereoBM_create(numDisparities=16, blockSize=15)\n",
    "disparity = stereo.compute(imgL,imgR)\n",
    "plt.imshow(disparity,'gray')\n",
    "plt.show()"
   ]
  },
  {
   "cell_type": "code",
   "execution_count": null,
   "metadata": {},
   "outputs": [],
   "source": []
  }
 ],
 "metadata": {
  "kernelspec": {
   "display_name": "Python 3",
   "language": "python",
   "name": "python3"
  },
  "language_info": {
   "codemirror_mode": {
    "name": "ipython",
    "version": 3
   },
   "file_extension": ".py",
   "mimetype": "text/x-python",
   "name": "python",
   "nbconvert_exporter": "python",
   "pygments_lexer": "ipython3",
   "version": "3.11.4"
  }
 },
 "nbformat": 4,
 "nbformat_minor": 4
}
